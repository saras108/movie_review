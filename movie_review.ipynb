{
  "nbformat": 4,
  "nbformat_minor": 0,
  "metadata": {
    "colab": {
      "name": "movie_review.ipynb",
      "provenance": [],
      "collapsed_sections": []
    },
    "kernelspec": {
      "name": "python3",
      "display_name": "Python 3"
    }
  },
  "cells": [
    {
      "cell_type": "code",
      "metadata": {
        "id": "USFUJP0sag2c",
        "colab_type": "code",
        "colab": {}
      },
      "source": [
        "%tensorflow_version 2.x\n",
        "import tensorflow as tf"
      ],
      "execution_count": 1,
      "outputs": []
    },
    {
      "cell_type": "code",
      "metadata": {
        "id": "iVRp52Kway5t",
        "colab_type": "code",
        "colab": {
          "base_uri": "https://localhost:8080/",
          "height": 54
        },
        "outputId": "e2fd58b6-d3fb-450e-862e-020da22045cd"
      },
      "source": [
        "import numpy as np\n",
        "import pandas as pd\n",
        "import os\n",
        "\n",
        "\n",
        "import warnings\n",
        "warnings.filterwarnings(\"ignore\" , category = UserWarning , module = \"bs4\")\n",
        "\n",
        "print(os.listdir(\"../\"))"
      ],
      "execution_count": 2,
      "outputs": [
        {
          "output_type": "stream",
          "text": [
            "['etc', 'usr', 'media', 'sys', 'proc', 'opt', 'var', 'sbin', 'bin', 'lib64', 'tmp', 'home', 'lib', 'run', 'boot', 'mnt', 'root', 'dev', 'srv', '.dockerenv', 'datalab', 'tools', 'swift', 'tensorflow-1.15.2', 'content', 'lib32']\n"
          ],
          "name": "stdout"
        }
      ]
    },
    {
      "cell_type": "code",
      "metadata": {
        "id": "e5MNBOS8a1ZR",
        "colab_type": "code",
        "colab": {}
      },
      "source": [
        "# submission  = \"https://raw.githubusercontent.com/saras108/movie_review/master/sampleSubmission.csv\"\n",
        "df_test = \"https://raw.githubusercontent.com/saras108/movie_review/master/test.tsv\"\n",
        "df_train = \"https://raw.githubusercontent.com/saras108/movie_review/master/train.tsv\"\n",
        "\n",
        "# df_submission  = pd.read_csv(submission)\n",
        "test  = pd.read_csv(df_test , sep='\\t')\n",
        "train  = pd.read_csv(df_train , sep='\\t')"
      ],
      "execution_count": 3,
      "outputs": []
    },
    {
      "cell_type": "code",
      "metadata": {
        "id": "_9aJfMZbMKGE",
        "colab_type": "code",
        "colab": {
          "base_uri": "https://localhost:8080/",
          "height": 105
        },
        "outputId": "c83f1000-592c-4a08-f215-6d3e51525809"
      },
      "source": [
        "import nltk\n",
        "from nltk.tokenize import word_tokenize\n",
        "from nltk.stem import WordNetLemmatizer\n",
        "lemmatizer = WordNetLemmatizer()\n",
        "from bs4 import BeautifulSoup\n",
        "import re\n",
        "\n",
        "from tqdm import tqdm\n",
        "nltk.download('punkt')\n",
        "nltk.download('wordnet')"
      ],
      "execution_count": 4,
      "outputs": [
        {
          "output_type": "stream",
          "text": [
            "[nltk_data] Downloading package punkt to /root/nltk_data...\n",
            "[nltk_data]   Package punkt is already up-to-date!\n",
            "[nltk_data] Downloading package wordnet to /root/nltk_data...\n",
            "[nltk_data]   Package wordnet is already up-to-date!\n"
          ],
          "name": "stdout"
        },
        {
          "output_type": "execute_result",
          "data": {
            "text/plain": [
              "True"
            ]
          },
          "metadata": {
            "tags": []
          },
          "execution_count": 4
        }
      ]
    },
    {
      "cell_type": "code",
      "metadata": {
        "id": "_AKJi1AjMLFU",
        "colab_type": "code",
        "colab": {}
      },
      "source": [
        "from keras.utils import to_categorical\n",
        "import random\n",
        "from sklearn.model_selection import train_test_split\n",
        "from keras.preprocessing import sequence\n",
        "from keras.preprocessing.text import Tokenizer\n",
        "from keras.layers import Dense , Dropout , Embedding, LSTM\n",
        "from keras.callbacks import EarlyStopping\n",
        "from keras.losses import categorical_crossentropy\n",
        "from keras.models import Sequential\n",
        "tf.random.set_seed(123)\n",
        "random.seed(123)"
      ],
      "execution_count": 5,
      "outputs": []
    },
    {
      "cell_type": "code",
      "metadata": {
        "id": "wP5xgrHDOsKl",
        "colab_type": "code",
        "colab": {
          "base_uri": "https://localhost:8080/",
          "height": 195
        },
        "outputId": "3703a312-c8a8-41b8-c9e7-76b372513549"
      },
      "source": [
        "train.head()"
      ],
      "execution_count": 6,
      "outputs": [
        {
          "output_type": "execute_result",
          "data": {
            "text/html": [
              "<div>\n",
              "<style scoped>\n",
              "    .dataframe tbody tr th:only-of-type {\n",
              "        vertical-align: middle;\n",
              "    }\n",
              "\n",
              "    .dataframe tbody tr th {\n",
              "        vertical-align: top;\n",
              "    }\n",
              "\n",
              "    .dataframe thead th {\n",
              "        text-align: right;\n",
              "    }\n",
              "</style>\n",
              "<table border=\"1\" class=\"dataframe\">\n",
              "  <thead>\n",
              "    <tr style=\"text-align: right;\">\n",
              "      <th></th>\n",
              "      <th>PhraseId</th>\n",
              "      <th>SentenceId</th>\n",
              "      <th>Phrase</th>\n",
              "      <th>Sentiment</th>\n",
              "    </tr>\n",
              "  </thead>\n",
              "  <tbody>\n",
              "    <tr>\n",
              "      <th>0</th>\n",
              "      <td>1</td>\n",
              "      <td>1</td>\n",
              "      <td>A series of escapades demonstrating the adage ...</td>\n",
              "      <td>1</td>\n",
              "    </tr>\n",
              "    <tr>\n",
              "      <th>1</th>\n",
              "      <td>2</td>\n",
              "      <td>1</td>\n",
              "      <td>A series of escapades demonstrating the adage ...</td>\n",
              "      <td>2</td>\n",
              "    </tr>\n",
              "    <tr>\n",
              "      <th>2</th>\n",
              "      <td>3</td>\n",
              "      <td>1</td>\n",
              "      <td>A series</td>\n",
              "      <td>2</td>\n",
              "    </tr>\n",
              "    <tr>\n",
              "      <th>3</th>\n",
              "      <td>4</td>\n",
              "      <td>1</td>\n",
              "      <td>A</td>\n",
              "      <td>2</td>\n",
              "    </tr>\n",
              "    <tr>\n",
              "      <th>4</th>\n",
              "      <td>5</td>\n",
              "      <td>1</td>\n",
              "      <td>series</td>\n",
              "      <td>2</td>\n",
              "    </tr>\n",
              "  </tbody>\n",
              "</table>\n",
              "</div>"
            ],
            "text/plain": [
              "   PhraseId  ...  Sentiment\n",
              "0         1  ...          1\n",
              "1         2  ...          2\n",
              "2         3  ...          2\n",
              "3         4  ...          2\n",
              "4         5  ...          2\n",
              "\n",
              "[5 rows x 4 columns]"
            ]
          },
          "metadata": {
            "tags": []
          },
          "execution_count": 6
        }
      ]
    },
    {
      "cell_type": "code",
      "metadata": {
        "id": "Md5vR0C2Qv7M",
        "colab_type": "code",
        "colab": {
          "base_uri": "https://localhost:8080/",
          "height": 34
        },
        "outputId": "bc2c6b02-2b43-4f46-a680-b6e3610da207"
      },
      "source": [
        "train.shape"
      ],
      "execution_count": 7,
      "outputs": [
        {
          "output_type": "execute_result",
          "data": {
            "text/plain": [
              "(156060, 4)"
            ]
          },
          "metadata": {
            "tags": []
          },
          "execution_count": 7
        }
      ]
    },
    {
      "cell_type": "code",
      "metadata": {
        "id": "45UTvqYMQtYO",
        "colab_type": "code",
        "colab": {
          "base_uri": "https://localhost:8080/",
          "height": 195
        },
        "outputId": "ad092468-1eed-4bd7-fa37-92a942ef79a6"
      },
      "source": [
        "test.head()"
      ],
      "execution_count": 8,
      "outputs": [
        {
          "output_type": "execute_result",
          "data": {
            "text/html": [
              "<div>\n",
              "<style scoped>\n",
              "    .dataframe tbody tr th:only-of-type {\n",
              "        vertical-align: middle;\n",
              "    }\n",
              "\n",
              "    .dataframe tbody tr th {\n",
              "        vertical-align: top;\n",
              "    }\n",
              "\n",
              "    .dataframe thead th {\n",
              "        text-align: right;\n",
              "    }\n",
              "</style>\n",
              "<table border=\"1\" class=\"dataframe\">\n",
              "  <thead>\n",
              "    <tr style=\"text-align: right;\">\n",
              "      <th></th>\n",
              "      <th>PhraseId</th>\n",
              "      <th>SentenceId</th>\n",
              "      <th>Phrase</th>\n",
              "    </tr>\n",
              "  </thead>\n",
              "  <tbody>\n",
              "    <tr>\n",
              "      <th>0</th>\n",
              "      <td>156061</td>\n",
              "      <td>8545</td>\n",
              "      <td>An intermittently pleasing but mostly routine ...</td>\n",
              "    </tr>\n",
              "    <tr>\n",
              "      <th>1</th>\n",
              "      <td>156062</td>\n",
              "      <td>8545</td>\n",
              "      <td>An intermittently pleasing but mostly routine ...</td>\n",
              "    </tr>\n",
              "    <tr>\n",
              "      <th>2</th>\n",
              "      <td>156063</td>\n",
              "      <td>8545</td>\n",
              "      <td>An</td>\n",
              "    </tr>\n",
              "    <tr>\n",
              "      <th>3</th>\n",
              "      <td>156064</td>\n",
              "      <td>8545</td>\n",
              "      <td>intermittently pleasing but mostly routine effort</td>\n",
              "    </tr>\n",
              "    <tr>\n",
              "      <th>4</th>\n",
              "      <td>156065</td>\n",
              "      <td>8545</td>\n",
              "      <td>intermittently pleasing but mostly routine</td>\n",
              "    </tr>\n",
              "  </tbody>\n",
              "</table>\n",
              "</div>"
            ],
            "text/plain": [
              "   PhraseId  SentenceId                                             Phrase\n",
              "0    156061        8545  An intermittently pleasing but mostly routine ...\n",
              "1    156062        8545  An intermittently pleasing but mostly routine ...\n",
              "2    156063        8545                                                 An\n",
              "3    156064        8545  intermittently pleasing but mostly routine effort\n",
              "4    156065        8545         intermittently pleasing but mostly routine"
            ]
          },
          "metadata": {
            "tags": []
          },
          "execution_count": 8
        }
      ]
    },
    {
      "cell_type": "code",
      "metadata": {
        "id": "ItkBMvgvQ2g3",
        "colab_type": "code",
        "colab": {
          "base_uri": "https://localhost:8080/",
          "height": 34
        },
        "outputId": "91bd0973-8ced-4009-c898-908ae81026d5"
      },
      "source": [
        "test.shape"
      ],
      "execution_count": 9,
      "outputs": [
        {
          "output_type": "execute_result",
          "data": {
            "text/plain": [
              "(66292, 3)"
            ]
          },
          "metadata": {
            "tags": []
          },
          "execution_count": 9
        }
      ]
    },
    {
      "cell_type": "code",
      "metadata": {
        "id": "ZQovHUDfQ6Qq",
        "colab_type": "code",
        "colab": {}
      },
      "source": [
        "def clean_sentence(df):\n",
        "  reviews = []\n",
        "\n",
        "  for sent in tqdm(df['Phrase']):\n",
        "    review_text = BeautifulSoup(sent).get_text() #remove html content\n",
        "\n",
        "    review_text = re.sub(\"[^a-zA-Z]\",\" \" , review_text) #remove non alphabetic characterstic\n",
        "\n",
        "    words = word_tokenize(review_text.lower()) #tokenize the sentences\n",
        "\n",
        "    lemma_words = [lemmatizer.lemmatize(i) for i in words] # lemmantize the each words\n",
        "\n",
        "    reviews.append(lemma_words)\n",
        "  \n",
        "  return(reviews)\n",
        "\n"
      ],
      "execution_count": 10,
      "outputs": []
    },
    {
      "cell_type": "code",
      "metadata": {
        "id": "dQqkJVCXU_3G",
        "colab_type": "code",
        "colab": {
          "base_uri": "https://localhost:8080/",
          "height": 52
        },
        "outputId": "9ee606cb-2105-424e-9a1a-9a33750908e6"
      },
      "source": [
        "train_sen = clean_sentence(train)\n",
        "test_sen = clean_sentence(test)"
      ],
      "execution_count": 11,
      "outputs": [
        {
          "output_type": "stream",
          "text": [
            "100%|██████████| 156060/156060 [01:09<00:00, 2252.74it/s]\n",
            "100%|██████████| 66292/66292 [00:29<00:00, 2273.98it/s]\n"
          ],
          "name": "stderr"
        }
      ]
    },
    {
      "cell_type": "code",
      "metadata": {
        "id": "92FTTlbuVlYE",
        "colab_type": "code",
        "colab": {
          "base_uri": "https://localhost:8080/",
          "height": 52
        },
        "outputId": "a4ab1f59-8e80-4e8e-bb8e-dacc63d30346"
      },
      "source": [
        "print( len(train_sen))\n",
        "print(len(test_sen))"
      ],
      "execution_count": 12,
      "outputs": [
        {
          "output_type": "stream",
          "text": [
            "156060\n",
            "66292\n"
          ],
          "name": "stdout"
        }
      ]
    },
    {
      "cell_type": "code",
      "metadata": {
        "id": "68UIL_qVWYqv",
        "colab_type": "code",
        "colab": {}
      },
      "source": [
        "target = train.Sentiment.values\n",
        "y_target = to_categorical(target)\n",
        "num_classes = y_target.shape[1]"
      ],
      "execution_count": 13,
      "outputs": []
    },
    {
      "cell_type": "code",
      "metadata": {
        "id": "Bo_95yrSXYuP",
        "colab_type": "code",
        "colab": {}
      },
      "source": [
        "X_train , X_val , y_train, y_val = train_test_split(train_sen , y_target , test_size = 0.2 , stratify=y_target)"
      ],
      "execution_count": 14,
      "outputs": []
    },
    {
      "cell_type": "code",
      "metadata": {
        "id": "5ZkgJFB3g0xS",
        "colab_type": "code",
        "colab": {
          "base_uri": "https://localhost:8080/",
          "height": 34
        },
        "outputId": "7574aff8-0053-4cee-85ba-19d9fbe418ae"
      },
      "source": [
        "unique_words = set()\n",
        "len_max = 0\n",
        "\n",
        "for sent in tqdm(X_train):\n",
        "    unique_words.update(sent)\n",
        "\n",
        "    if(len_max<len(sent)):\n",
        "        len_max = len(sent)\n",
        "\n",
        "    "
      ],
      "execution_count": 15,
      "outputs": [
        {
          "output_type": "stream",
          "text": [
            "100%|██████████| 124848/124848 [00:00<00:00, 574706.22it/s]\n"
          ],
          "name": "stderr"
        }
      ]
    },
    {
      "cell_type": "code",
      "metadata": {
        "colab_type": "code",
        "id": "_H-tMqaw4q9n",
        "colab": {
          "base_uri": "https://localhost:8080/",
          "height": 52
        },
        "outputId": "9d5269c0-801c-4747-a332-a259685aa955"
      },
      "source": [
        "\n",
        "print(len(list(unique_words)))\n",
        "\n",
        "print(len_max)\n"
      ],
      "execution_count": 16,
      "outputs": [
        {
          "output_type": "stream",
          "text": [
            "13732\n",
            "48\n"
          ],
          "name": "stdout"
        }
      ]
    },
    {
      "cell_type": "code",
      "metadata": {
        "id": "WY4-jNp8zD_8",
        "colab_type": "code",
        "colab": {
          "base_uri": "https://localhost:8080/",
          "height": 34
        },
        "outputId": "48ad6965-bba7-45b8-8429-e1512c11bd9f"
      },
      "source": [
        "tokenizer = Tokenizer(num_words=len(list(unique_words)))\n",
        "tokenizer.fit_on_texts(list(X_train))\n",
        "\n",
        "X_train = tokenizer.texts_to_sequences(X_train)\n",
        "X_val = tokenizer.texts_to_sequences(X_val)\n",
        "X_test = tokenizer.texts_to_sequences(test_sen)\n",
        "\n",
        "X_train = sequence.pad_sequences(X_train, maxlen=len_max)\n",
        "X_val = sequence.pad_sequences(X_val, maxlen=len_max)\n",
        "X_test = sequence.pad_sequences(X_test, maxlen=len_max)\n",
        "\n",
        "\n",
        "print(X_train.shape, X_val.shape, X_test.shape)"
      ],
      "execution_count": 17,
      "outputs": [
        {
          "output_type": "stream",
          "text": [
            "(124848, 48) (31212, 48) (66292, 48)\n"
          ],
          "name": "stdout"
        }
      ]
    },
    {
      "cell_type": "code",
      "metadata": {
        "id": "m0xISHed9CO9",
        "colab_type": "code",
        "colab": {}
      },
      "source": [
        "X_train = sequence.pad_sequences(X_train, maxlen=len_max)"
      ],
      "execution_count": 18,
      "outputs": []
    },
    {
      "cell_type": "code",
      "metadata": {
        "id": "wwtIdBat8DJk",
        "colab_type": "code",
        "colab": {
          "base_uri": "https://localhost:8080/",
          "height": 140
        },
        "outputId": "9823afd6-6095-45a8-ed44-a66e1a3bb8c8"
      },
      "source": [
        "X_train"
      ],
      "execution_count": 19,
      "outputs": [
        {
          "output_type": "execute_result",
          "data": {
            "text/plain": [
              "array([[    0,     0,     0, ...,  8400,     3,   262],\n",
              "       [    0,     0,     0, ...,     0,  6339,     4],\n",
              "       [    0,     0,     0, ...,     9,   108, 10878],\n",
              "       ...,\n",
              "       [    0,     0,     0, ...,     0,   533,   217],\n",
              "       [    0,     0,     0, ...,     3,    10,   439],\n",
              "       [    0,     0,     0, ...,     0,     0,   347]], dtype=int32)"
            ]
          },
          "metadata": {
            "tags": []
          },
          "execution_count": 19
        }
      ]
    },
    {
      "cell_type": "code",
      "metadata": {
        "id": "TfUo5R_F9Fro",
        "colab_type": "code",
        "colab": {
          "base_uri": "https://localhost:8080/",
          "height": 34
        },
        "outputId": "37f30554-c04a-4a68-bd8c-8f7a527f009a"
      },
      "source": [
        "len_max"
      ],
      "execution_count": 20,
      "outputs": [
        {
          "output_type": "execute_result",
          "data": {
            "text/plain": [
              "48"
            ]
          },
          "metadata": {
            "tags": []
          },
          "execution_count": 20
        }
      ]
    },
    {
      "cell_type": "code",
      "metadata": {
        "id": "pwtG1vMo9Iju",
        "colab_type": "code",
        "colab": {}
      },
      "source": [
        "early_stopping = EarlyStopping(min_delta=0.001 , mode = \"max\" , monitor='val_acc', patience=2)\n",
        "callback = [early_stopping]"
      ],
      "execution_count": 21,
      "outputs": []
    },
    {
      "cell_type": "code",
      "metadata": {
        "id": "XsAo_J_E-EUZ",
        "colab_type": "code",
        "colab": {
          "base_uri": "https://localhost:8080/",
          "height": 334
        },
        "outputId": "4c7e1960-3af7-4ef2-a06b-463eaf99c038"
      },
      "source": [
        "model = Sequential()\n",
        "model.add(Embedding(len(list(unique_words)),300 , input_length=len_max))\n",
        "model.add(LSTM(64, dropout=0.5 , return_sequences=False))\n",
        "model.add(Dense(100 , activation='relu'))\n",
        "model.add(Dropout(0.5))\n",
        "model.add(Dense(num_classes , activation='softmax'))\n",
        "model.compile(loss = \"categorical_crossentropy\" , optimizer = tf.keras.optimizers.Adam(lr=0.005) , metrics = ['accuracy'])\n",
        "model.summary()"
      ],
      "execution_count": 22,
      "outputs": [
        {
          "output_type": "stream",
          "text": [
            "Model: \"sequential\"\n",
            "_________________________________________________________________\n",
            "Layer (type)                 Output Shape              Param #   \n",
            "=================================================================\n",
            "embedding (Embedding)        (None, 48, 300)           4119600   \n",
            "_________________________________________________________________\n",
            "lstm (LSTM)                  (None, 64)                93440     \n",
            "_________________________________________________________________\n",
            "dense (Dense)                (None, 100)               6500      \n",
            "_________________________________________________________________\n",
            "dropout (Dropout)            (None, 100)               0         \n",
            "_________________________________________________________________\n",
            "dense_1 (Dense)              (None, 5)                 505       \n",
            "=================================================================\n",
            "Total params: 4,220,045\n",
            "Trainable params: 4,220,045\n",
            "Non-trainable params: 0\n",
            "_________________________________________________________________\n"
          ],
          "name": "stdout"
        }
      ]
    },
    {
      "cell_type": "code",
      "metadata": {
        "id": "OAnqx3vN_ZsS",
        "colab_type": "code",
        "colab": {
          "base_uri": "https://localhost:8080/",
          "height": 354
        },
        "outputId": "6bacf0f8-7ab7-486b-d569-c439b88a91a8"
      },
      "source": [
        "history = model.fit(X_train , y_train , validation_data=(X_val, y_val) , epochs=6 , batch_size=256 , verbose=1 , callbacks = callback)"
      ],
      "execution_count": 23,
      "outputs": [
        {
          "output_type": "stream",
          "text": [
            "Epoch 1/6\n",
            "488/488 [==============================] - ETA: 0s - loss: 0.9580 - accuracy: 0.6120WARNING:tensorflow:Early stopping conditioned on metric `val_acc` which is not available. Available metrics are: loss,accuracy,val_loss,val_accuracy\n",
            "488/488 [==============================] - 148s 303ms/step - loss: 0.9580 - accuracy: 0.6120 - val_loss: 0.8306 - val_accuracy: 0.6595\n",
            "Epoch 2/6\n",
            "488/488 [==============================] - ETA: 0s - loss: 0.7690 - accuracy: 0.6848WARNING:tensorflow:Early stopping conditioned on metric `val_acc` which is not available. Available metrics are: loss,accuracy,val_loss,val_accuracy\n",
            "488/488 [==============================] - 147s 302ms/step - loss: 0.7690 - accuracy: 0.6848 - val_loss: 0.8092 - val_accuracy: 0.6692\n",
            "Epoch 3/6\n",
            "488/488 [==============================] - ETA: 0s - loss: 0.6949 - accuracy: 0.7104WARNING:tensorflow:Early stopping conditioned on metric `val_acc` which is not available. Available metrics are: loss,accuracy,val_loss,val_accuracy\n",
            "488/488 [==============================] - 147s 301ms/step - loss: 0.6949 - accuracy: 0.7104 - val_loss: 0.8268 - val_accuracy: 0.6694\n",
            "Epoch 4/6\n",
            "488/488 [==============================] - ETA: 0s - loss: 0.6467 - accuracy: 0.7280WARNING:tensorflow:Early stopping conditioned on metric `val_acc` which is not available. Available metrics are: loss,accuracy,val_loss,val_accuracy\n",
            "488/488 [==============================] - 148s 302ms/step - loss: 0.6467 - accuracy: 0.7280 - val_loss: 0.8688 - val_accuracy: 0.6671\n",
            "Epoch 5/6\n",
            "488/488 [==============================] - ETA: 0s - loss: 0.6143 - accuracy: 0.7391WARNING:tensorflow:Early stopping conditioned on metric `val_acc` which is not available. Available metrics are: loss,accuracy,val_loss,val_accuracy\n",
            "488/488 [==============================] - 146s 299ms/step - loss: 0.6143 - accuracy: 0.7391 - val_loss: 0.9150 - val_accuracy: 0.6627\n",
            "Epoch 6/6\n",
            "488/488 [==============================] - ETA: 0s - loss: 0.5868 - accuracy: 0.7486WARNING:tensorflow:Early stopping conditioned on metric `val_acc` which is not available. Available metrics are: loss,accuracy,val_loss,val_accuracy\n",
            "488/488 [==============================] - 146s 299ms/step - loss: 0.5868 - accuracy: 0.7486 - val_loss: 0.9251 - val_accuracy: 0.6649\n"
          ],
          "name": "stdout"
        }
      ]
    },
    {
      "cell_type": "code",
      "metadata": {
        "id": "gPWrrCO7Bqg_",
        "colab_type": "code",
        "colab": {
          "base_uri": "https://localhost:8080/",
          "height": 279
        },
        "outputId": "d0a34306-c187-4eda-f756-78b4d288e6f6"
      },
      "source": [
        "import matplotlib.pyplot as plt\n",
        "\n",
        "epoch_count = range(1 , len(history.history['loss'])+1)\n",
        "\n",
        "plt.plot(epoch_count, history.history['loss'] , 'r--')\n",
        "plt.plot(epoch_count, history.history['val_loss'] , 'b--')\n",
        "plt.legend(['Training Loss' , 'Validation Loss'])\n",
        "plt.xlabel('Epoch')\n",
        "plt.ylabel('loss')\n",
        "plt.show()"
      ],
      "execution_count": 33,
      "outputs": [
        {
          "output_type": "display_data",
          "data": {
            "image/png": "[encoded data removed]",
            "text/plain": [
              "<Figure size 432x288 with 1 Axes>"
            ]
          },
          "metadata": {
            "tags": [],
            "needs_background": "light"
          }
        }
      ]
    },
    {
      "cell_type": "code",
      "metadata": {
        "id": "wsSjHgPADdnF",
        "colab_type": "code",
        "colab": {}
      },
      "source": [
        ""
      ],
      "execution_count": 33,
      "outputs": []
    },
    {
      "cell_type": "code",
      "metadata": {
        "id": "0mCe3Or8H5SZ",
        "colab_type": "code",
        "colab": {}
      },
      "source": [
        ""
      ],
      "execution_count": null,
      "outputs": []
    }
  ]
}